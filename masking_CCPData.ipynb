{
 "cells": [
  {
   "cell_type": "code",
   "execution_count": 1,
   "id": "002e9ebf-82b3-4ee9-910f-6c7b7518aa3f",
   "metadata": {},
   "outputs": [
    {
     "name": "stderr",
     "output_type": "stream",
     "text": [
      "2022-04-09 13:53:16.341096: I tensorflow/stream_executor/platform/default/dso_loader.cc:49] Successfully opened dynamic library libcudart.so.11.0\n"
     ]
    }
   ],
   "source": [
    "import os\n",
    "import argparse\n",
    "import tensorflow as tf\n",
    "from IPython import display\n",
    "from tensorflow import Tensor\n",
    "from tensorflow.keras import layers\n",
    "from matplotlib import pyplot as plt\n",
    "from tensorflow.keras.models import Model\n",
    "import numpy as np\n",
    "import utils  # local import\n",
    "from model import Generator  # local import\n",
    "\n",
    "from tqdm import tqdm\n"
   ]
  },
  {
   "cell_type": "code",
   "execution_count": 2,
   "id": "a2daf302-a4c9-4e54-93dd-903d9c26c703",
   "metadata": {},
   "outputs": [],
   "source": [
    "# import zipfile\n",
    "# with zipfile.ZipFile(os.getcwd() + \"/data.zip\", 'r') as zip_ref:\n",
    "#     zip_ref.extractall(os.getcwd() + \"/\")"
   ]
  },
  {
   "cell_type": "code",
   "execution_count": 4,
   "id": "f530d6c4-ea81-4793-8b42-c82f177ca1b3",
   "metadata": {},
   "outputs": [],
   "source": [
    "EPOCHS = 1\n",
    "LAMBDA = 100\n",
    "BATCH_SIZE = 8\n",
    "IMG_WIDTH = 832\n",
    "IMG_HEIGHT = 832\n",
    "\n",
    "# IMG_WIDTH = 256\n",
    "# IMG_HEIGHT = 256\n",
    "\n",
    "BUFFER_SIZE = 400\n",
    "SAVE_PATH = 'weights'\n",
    "ff_dim = 32\n",
    "num_heads = 8\n",
    "patch_size = 26\n",
    "embed_dim = 128\n",
    "projection_dim = 64\n",
    "input_shape = (IMG_HEIGHT, IMG_WIDTH, 3)\n",
    "num_patches = (IMG_HEIGHT // patch_size) ** 2\n",
    "\n",
    "PATH = os.getcwd() + \"/data/\"\n",
    "SAVE_PATH = os.getcwd() + \"/modelbin_new/\"\n",
    "\n",
    "if not os.path.exists(SAVE_PATH):\n",
    "    os.makedirs(SAVE_PATH)\n",
    "\n",
    "assert IMG_WIDTH == IMG_HEIGHT, 'width and height must have same size'\n",
    "\n",
    "device = '/device:GPU:0' if utils.check_cuda else '/cpu:0'\n",
    "\n"
   ]
  },
  {
   "cell_type": "code",
   "execution_count": 5,
   "id": "4a210de1-62ae-4fa6-b09b-41f79c82c309",
   "metadata": {},
   "outputs": [
    {
     "name": "stdout",
     "output_type": "stream",
     "text": [
      "1024 32\n"
     ]
    }
   ],
   "source": [
    "print(num_patches, (IMG_HEIGHT // patch_size))"
   ]
  },
  {
   "cell_type": "code",
   "execution_count": 6,
   "id": "b93904dd-cbc9-4264-aab9-d58889d2080a",
   "metadata": {},
   "outputs": [],
   "source": [
    "\n",
    "color_map = {}\n",
    "import pickle\n",
    "import random\n",
    "color_map['0'] = (0,0,0,255)\n",
    "random.seed(20)\n",
    "for i in range(150, 256):\n",
    "    color_map[f'{i}'] = [random.randint(0,255), random.randint(0,255), random.randint(0,255), 255]\n",
    "\n",
    "# pickle.dump(color_map, open(\"colormap.bin\", 'wb'))\n",
    "# print(pickle.load(open(\"colormap.bin\", 'rb')))\n",
    "    \n",
    "def color_helper(pix):\n",
    "    # print(color_map[f'{pix}'])\n",
    "    return color_map[f'{pix}']\n",
    "\n",
    "def colormap_pat(nparray):\n",
    "    new_image_array = []\n",
    "    for row in nparray:\n",
    "        temp_col = []\n",
    "        for column in row:\n",
    "            temp_col.append(color_helper(column))\n",
    "            # print(column, color_helper(column), cm.flag(column))\n",
    "            \n",
    "        new_image_array.append(temp_col)\n",
    "        \n",
    "        \n",
    "    return new_image_array\n",
    "\n"
   ]
  },
  {
   "cell_type": "code",
   "execution_count": 54,
   "id": "ca17f4a2-207c-44c2-a6ca-8370d1b5a0ba",
   "metadata": {
    "tags": []
   },
   "outputs": [],
   "source": [
    "\n",
    "\n",
    "def load(image_file):\n",
    "    image = tf.io.read_file(image_file)\n",
    "    image = tf.image.decode_jpeg(image)\n",
    "\n",
    "    w = tf.shape(image)[1]\n",
    "\n",
    "    w = w // 2\n",
    "    real_image = image[:, :w, :]\n",
    "    input_image = image[:, w:, :]\n",
    "\n",
    "    input_image = tf.cast(input_image, tf.float32)\n",
    "    real_image = tf.cast(real_image, tf.float32)\n",
    "\n",
    "    return input_image, real_image\n",
    "\n",
    "\n",
    "def resize(input_image, real_image, height, width):\n",
    "    input_image = tf.image.resize(input_image, [height, width],\n",
    "                                  method=tf.image.ResizeMethod.NEAREST_NEIGHBOR)\n",
    "    real_image = tf.image.resize(real_image, [height, width],\n",
    "                                 method=tf.image.ResizeMethod.NEAREST_NEIGHBOR)\n",
    "\n",
    "    return input_image, real_image\n",
    "\n",
    "\n",
    "def random_crop(input_image, real_image):\n",
    "    stacked_image = tf.stack([input_image, real_image], axis=0)\n",
    "    cropped_image = tf.image.random_crop(stacked_image, size=[2, IMG_HEIGHT, IMG_WIDTH, 3])\n",
    "\n",
    "    return cropped_image[0], cropped_image[1]\n",
    "\n",
    "\n",
    "# normalizing the images between [-1, 1]\n",
    "def normalize(input_image, real_image):\n",
    "    #TODO FIND OUT IF I NEED TO MAKE OG NORMALIZATION WORK [-1,1] VS [0,1]\n",
    "#     input_image = (input_image / 127.5) -1\n",
    "#     real_image = (real_image / 127.5)  -1 \n",
    "\n",
    "    input_image = (input_image / 255)\n",
    "    real_image = (real_image / 255)   \n",
    "\n",
    "    \n",
    "    return real_image, input_image\n",
    "\n",
    "\n",
    "def add_noise(input_image, real_image):\n",
    "    \n",
    "    \n",
    "    return input_image, real_image\n",
    "\n",
    "@tf.function()\n",
    "def random_jitter(input_image, real_image):\n",
    "    # resizing to 286 x 286 x 3\n",
    "    input_image, real_image = resize(input_image, real_image, 286, 286)\n",
    "\n",
    "    # randomly cropping to 256 x 256 x 3\n",
    "    input_image, real_image = random_crop(input_image, real_image)\n",
    "\n",
    "    #add random color\n",
    "#     input_image, real_image = add_noise(input_image, real_image)\n",
    "    \n",
    "    \n",
    "    if tf.random.uniform(()) > 0.5:\n",
    "        # random mirroring\n",
    "        input_image = tf.image.flip_left_right(input_image)\n",
    "        real_image = tf.image.flip_left_right(real_image)\n",
    "\n",
    "    return input_image, real_image\n",
    "\n",
    "\n",
    "def load_image_train(image_file):\n",
    "    print(image_file)\n",
    "    input_image, real_image = load(image_file)\n",
    "    input_image, real_image = random_jitter(input_image, real_image)\n",
    "    input_image, real_image = normalize(input_image, real_image)\n",
    "\n",
    "    return input_image, real_image\n",
    "\n",
    "\n",
    "def load_image_test(image_file):\n",
    "    input_image, real_image = load(image_file)\n",
    "    input_image, real_image = resize(input_image, real_image,\n",
    "                                   IMG_HEIGHT, IMG_WIDTH)\n",
    "    input_image, real_image = normalize(input_image, real_image)\n",
    "\n",
    "    return input_image, real_image"
   ]
  },
  {
   "cell_type": "code",
   "execution_count": 58,
   "id": "7000e6ce-80f8-42ac-9e9d-1195a21d2c5b",
   "metadata": {},
   "outputs": [
    {
     "name": "stdout",
     "output_type": "stream",
     "text": [
      "0.0\n"
     ]
    },
    {
     "data": {
      "text/plain": [
       "<matplotlib.image.AxesImage at 0x2b7404513370>"
      ]
     },
     "execution_count": 58,
     "metadata": {},
     "output_type": "execute_result"
    },
    {
     "data": {
      "image/png": "[encoded data removed]",
      "text/plain": [
       "<Figure size 432x288 with 1 Axes>"
      ]
     },
     "metadata": {
      "needs_background": "light"
     },
     "output_type": "display_data"
    }
   ],
   "source": [
    "from PIL import Image\n",
    "from IPython import display as display\n",
    "from matplotlib.pyplot import imshow\n",
    "\n",
    "ins, real = load(os.getcwd() + '/data/test/testimage.PNG')\n",
    "\n",
    "im = ins.numpy()\n",
    "# print(im[100][0][0])\n",
    "\n",
    "# im = Image.fromarray(im)\n",
    "ins, real = normalize(ins, real)\n",
    "# print(ins.shape)\n",
    "im = ins.numpy()\n",
    "print(np.min(im))\n",
    "# im = Image.fromarray((im * 255).astype(np.uint8))\n",
    "imshow(im)"
   ]
  },
  {
   "cell_type": "code",
   "execution_count": 5,
   "id": "6ccd2e4b-f9e4-4e1e-885b-2d8b6cdfc0cd",
   "metadata": {
    "tags": []
   },
   "outputs": [
    {
     "name": "stderr",
     "output_type": "stream",
     "text": [
      "2022-03-31 14:40:08.398388: I tensorflow/compiler/jit/xla_cpu_device.cc:41] Not creating XLA devices, tf_xla_enable_xla_devices not set\n",
      "2022-03-31 14:40:08.399612: I tensorflow/stream_executor/platform/default/dso_loader.cc:49] Successfully opened dynamic library libcuda.so.1\n",
      "2022-03-31 14:40:08.615735: I tensorflow/core/common_runtime/gpu/gpu_device.cc:1720] Found device 0 with properties: \n",
      "pciBusID: 0000:b7:00.0 name: NVIDIA A100-SXM4-80GB computeCapability: 8.0\n",
      "coreClock: 1.41GHz coreCount: 108 deviceMemorySize: 79.35GiB deviceMemoryBandwidth: 1.85TiB/s\n",
      "2022-03-31 14:40:08.615773: I tensorflow/stream_executor/platform/default/dso_loader.cc:49] Successfully opened dynamic library libcudart.so.11.0\n",
      "2022-03-31 14:40:08.619684: I tensorflow/stream_executor/platform/default/dso_loader.cc:49] Successfully opened dynamic library libcublas.so.11\n",
      "2022-03-31 14:40:08.619716: I tensorflow/stream_executor/platform/default/dso_loader.cc:49] Successfully opened dynamic library libcublasLt.so.11\n",
      "2022-03-31 14:40:08.621586: I tensorflow/stream_executor/platform/default/dso_loader.cc:49] Successfully opened dynamic library libcufft.so.10\n",
      "2022-03-31 14:40:08.622518: I tensorflow/stream_executor/platform/default/dso_loader.cc:49] Successfully opened dynamic library libcurand.so.10\n",
      "2022-03-31 14:40:08.625329: I tensorflow/stream_executor/platform/default/dso_loader.cc:49] Successfully opened dynamic library libcusolver.so.10\n",
      "2022-03-31 14:40:08.626531: I tensorflow/stream_executor/platform/default/dso_loader.cc:49] Successfully opened dynamic library libcusparse.so.11\n",
      "2022-03-31 14:40:08.627500: I tensorflow/stream_executor/platform/default/dso_loader.cc:49] Successfully opened dynamic library libcudnn.so.8\n",
      "2022-03-31 14:40:08.633897: I tensorflow/core/common_runtime/gpu/gpu_device.cc:1862] Adding visible gpu devices: 0\n",
      "2022-03-31 14:40:08.634461: I tensorflow/core/platform/cpu_feature_guard.cc:142] This TensorFlow binary is optimized with oneAPI Deep Neural Network Library (oneDNN) to use the following CPU instructions in performance-critical operations:  AVX2 FMA\n",
      "To enable them in other operations, rebuild TensorFlow with the appropriate compiler flags.\n",
      "2022-03-31 14:40:08.634654: I tensorflow/compiler/jit/xla_gpu_device.cc:99] Not creating XLA devices, tf_xla_enable_xla_devices not set\n",
      "2022-03-31 14:40:08.638006: I tensorflow/core/common_runtime/gpu/gpu_device.cc:1720] Found device 0 with properties: \n",
      "pciBusID: 0000:b7:00.0 name: NVIDIA A100-SXM4-80GB computeCapability: 8.0\n",
      "coreClock: 1.41GHz coreCount: 108 deviceMemorySize: 79.35GiB deviceMemoryBandwidth: 1.85TiB/s\n",
      "2022-03-31 14:40:08.638021: I tensorflow/stream_executor/platform/default/dso_loader.cc:49] Successfully opened dynamic library libcudart.so.11.0\n",
      "2022-03-31 14:40:08.638032: I tensorflow/stream_executor/platform/default/dso_loader.cc:49] Successfully opened dynamic library libcublas.so.11\n",
      "2022-03-31 14:40:08.638041: I tensorflow/stream_executor/platform/default/dso_loader.cc:49] Successfully opened dynamic library libcublasLt.so.11\n",
      "2022-03-31 14:40:08.638049: I tensorflow/stream_executor/platform/default/dso_loader.cc:49] Successfully opened dynamic library libcufft.so.10\n",
      "2022-03-31 14:40:08.638057: I tensorflow/stream_executor/platform/default/dso_loader.cc:49] Successfully opened dynamic library libcurand.so.10\n",
      "2022-03-31 14:40:08.638071: I tensorflow/stream_executor/platform/default/dso_loader.cc:49] Successfully opened dynamic library libcusolver.so.10\n",
      "2022-03-31 14:40:08.638079: I tensorflow/stream_executor/platform/default/dso_loader.cc:49] Successfully opened dynamic library libcusparse.so.11\n",
      "2022-03-31 14:40:08.638087: I tensorflow/stream_executor/platform/default/dso_loader.cc:49] Successfully opened dynamic library libcudnn.so.8\n",
      "2022-03-31 14:40:08.644284: I tensorflow/core/common_runtime/gpu/gpu_device.cc:1862] Adding visible gpu devices: 0\n",
      "2022-03-31 14:40:08.644356: I tensorflow/stream_executor/platform/default/dso_loader.cc:49] Successfully opened dynamic library libcudart.so.11.0\n",
      "2022-03-31 14:40:09.114646: I tensorflow/core/common_runtime/gpu/gpu_device.cc:1261] Device interconnect StreamExecutor with strength 1 edge matrix:\n",
      "2022-03-31 14:40:09.114701: I tensorflow/core/common_runtime/gpu/gpu_device.cc:1267]      0 \n",
      "2022-03-31 14:40:09.114709: I tensorflow/core/common_runtime/gpu/gpu_device.cc:1280] 0:   N \n",
      "2022-03-31 14:40:09.124248: I tensorflow/core/common_runtime/gpu/gpu_device.cc:1406] Created TensorFlow device (/job:localhost/replica:0/task:0/device:GPU:0 with 75844 MB memory) -> physical GPU (device: 0, name: NVIDIA A100-SXM4-80GB, pci bus id: 0000:b7:00.0, compute capability: 8.0)\n"
     ]
    },
    {
     "name": "stdout",
     "output_type": "stream",
     "text": [
      "Tensor(\"args_0:0\", shape=(), dtype=string)\n"
     ]
    }
   ],
   "source": [
    "tf.config.run_functions_eagerly(False)\n",
    "\n",
    "train_dataset = tf.data.Dataset.list_files(PATH + 'train/*.png')\n",
    "train_dataset = train_dataset.map(load_image_train,\n",
    "                                  num_parallel_calls=tf.data.experimental.AUTOTUNE)\n",
    "train_dataset = train_dataset.shuffle(BUFFER_SIZE)\n",
    "train_dataset = train_dataset.batch(BATCH_SIZE)\n",
    "\n",
    "try:\n",
    "    test_dataset = tf.data.Dataset.list_files(PATH + 'test/*.png')\n",
    "    test_dataset = test_dataset.map(load_image_test)\n",
    "    test_dataset = test_dataset.batch(BATCH_SIZE)\n",
    "except:\n",
    "    test_dataset = train_dataset\n"
   ]
  },
  {
   "cell_type": "code",
   "execution_count": 6,
   "id": "abf66d54-6001-4d62-956f-f19ed114c3fb",
   "metadata": {},
   "outputs": [],
   "source": [
    "# import os\n",
    "# import zipfile\n",
    "\n",
    "# with zipfile.ZipFile(os.getcwd() + \"/data.zip\", 'r') as zip_ref:\n",
    "#     zip_ref.extractall(os.getcwd())"
   ]
  },
  {
   "cell_type": "code",
   "execution_count": 7,
   "id": "1fa0890e-95a5-4fe5-a15f-1138fefea0bf",
   "metadata": {},
   "outputs": [],
   "source": [
    "def generate_images(model, test_input, tar):\n",
    "    prediction = model(test_input, training=True)\n",
    "    plt.figure(figsize=(15, 15))\n",
    "\n",
    "    display_list = [test_input[0], tar[0], prediction[0]]\n",
    "    title = ['Input Image', 'Ground Truth', 'Predicted Image']\n",
    "\n",
    "    for i in range(3):\n",
    "        plt.subplot(1, 3, i+1)\n",
    "        plt.title(title[i])\n",
    "        # getting the pixel values between [0, 1] to plot it.\n",
    "        plt.imshow(display_list[i] * 0.5 + 0.5)\n",
    "        plt.axis('off')\n",
    "    plt.show()\n",
    "\n",
    "\n",
    "\n",
    "\n",
    "\n",
    "def train_step(input_image, target, epoch):\n",
    "    with tf.device(device):\n",
    "        with tf.GradientTape() as gen_tape:\n",
    "            gen_output = generator(input_image, training=True)\n",
    "\n",
    "            gen_total_loss = tf.reduce_mean(tf.abs(target - gen_output))\n",
    "\n",
    "        generator_gradients = gen_tape.gradient(gen_total_loss,\n",
    "                                                generator.trainable_variables)\n",
    "\n",
    "        optimizer.apply_gradients(zip(generator_gradients,\n",
    "                                      generator.trainable_variables))\n",
    "\n",
    "\n",
    "def fit(train_ds, epochs, test_ds):\n",
    "    print(f\"[INFO] will train on device: {device}\")\n",
    "    for epoch in range(epochs):\n",
    "\n",
    "        if utils.is_notebook():\n",
    "            display.clear_output(wait=True)\n",
    "\n",
    "            for example_input, example_target in test_ds.take(1):\n",
    "                generate_images(generator, example_input, example_target)\n",
    "\n",
    "        print(f'Epoch: [{epoch}/{epochs}]')\n",
    "\n",
    "        # Train\n",
    "        for n, (input_image, target) in tqdm(train_ds.enumerate()):\n",
    "            train_step(input_image, target, epoch)\n",
    "\n",
    "        generator.save_weights(f'{SAVE_PATH}/tensor2image-weights.h5')\n",
    "\n",
    "\n",
    "def test(test_dataset, generator):\n",
    "    ''' \n",
    "    a function to visually inspect to outputs\n",
    "    '''\n",
    "    if utils.is_notebook():\n",
    "        for inp, tar in test_dataset.take(1):\n",
    "            generate_batch_images(generator, inp, tar)\n",
    "\n",
    "def generate_batch_images(model, test_input, tar):\n",
    "#     for i in range(len(test_input)):\n",
    "    print(tf.shape(test_input))\n",
    "    prediction = model(test_input, training=True)\n",
    "    plt.figure(figsize=(15, 15))\n",
    "\n",
    "\n",
    "    pred_np = np.expand_dims(prediction.numpy()[0], 0)\n",
    "#     masked_im = np.expand_dims(test_input.numpy()[0], 0)\n",
    "\n",
    "# #     print(np.shape(pred_np), np.shape(masked_im))\n",
    "#     for i, val in enumerate(pred_np):\n",
    "#         for j, row in enumerate(val):\n",
    "#             for k, channel in enumerate(row):\n",
    "#                 if np.mean(pred_np[i][j][k]) < -0.8:\n",
    "#                     masked_im[i][j][k] = [0.0,0.0,0.0]\n",
    "\n",
    "#     masked_im = tf.convert_to_tensor(masked_im)\n",
    "#     print(tf.shape(masked_im))\n",
    "\n",
    "#     if tf.shape(masked_im)[0] > 1:\n",
    "#         masked_im = masked_im[0]\n",
    "\n",
    "\n",
    "\n",
    "#     masked_im = tf.reshape(masked_im,(256,256,3))\n",
    "#     display_list = [test_input[i], tar[i], prediction[i], masked_im]\n",
    "    display_list = [test_input[i], tar[i], prediction[i]]\n",
    "#         print(prediction)\n",
    "    title = ['Input Image', 'Ground Truth', 'Predicted Image', 'Masked']\n",
    "\n",
    "    for i in range(4):\n",
    "        plt.subplot(1, 4, i+1)\n",
    "        plt.title(title[i])\n",
    "        # converting the pixel values to [0, 1] to plot it.\n",
    "        plt.imshow(display_list[i] * 0.5 + 0.5)\n",
    "        plt.axis('off')\n",
    "    plt.show()\n",
    "    "
   ]
  },
  {
   "cell_type": "code",
   "execution_count": 19,
   "id": "a069264d-fc9a-4251-aaf5-70f1e1dea3f1",
   "metadata": {},
   "outputs": [
    {
     "name": "stdout",
     "output_type": "stream",
     "text": [
      "Shape: KerasTensor(type_spec=TensorSpec(shape=(None, 1024, 64), dtype=tf.float32, name=None), name='transformer_block_19/layer_normalization_39/batchnorm/add_1:0', description=\"created by layer 'transformer_block_19'\")\n"
     ]
    }
   ],
   "source": [
    "generator = Generator(input_shape, patch_size, num_patches, projection_dim, num_heads, ff_dim)\n",
    "tf.keras.utils.plot_model(generator, show_shapes=True, dpi=64)\n",
    "# generator.summary()\n",
    "\n",
    "optimizer = tf.keras.optimizers.Adam(2e-4, beta_1=0.5)"
   ]
  },
  {
   "cell_type": "code",
   "execution_count": null,
   "id": "0005b9e7-3e44-4f92-9aad-7a891cd23458",
   "metadata": {},
   "outputs": [],
   "source": [
    "\n",
    "generator.load_weights(filepath = os.getcwd() + \"/modelbin/tensor2image-weights.h5\")"
   ]
  },
  {
   "cell_type": "code",
   "execution_count": null,
   "id": "e7f843c5-94c5-4e92-96fc-61925f25d431",
   "metadata": {
    "tags": []
   },
   "outputs": [],
   "source": [
    "fit(train_dataset, 50, test_dataset)"
   ]
  },
  {
   "cell_type": "code",
   "execution_count": null,
   "id": "ca2003d6-5e30-489c-a6bb-2779c0062693",
   "metadata": {},
   "outputs": [],
   "source": [
    "#augment by reverse masking image, adding noise and recombining"
   ]
  },
  {
   "cell_type": "code",
   "execution_count": null,
   "id": "091df5c5-eb4e-43e8-bab9-6f0e78a7f55a",
   "metadata": {},
   "outputs": [],
   "source": [
    "test(train_dataset, generator)"
   ]
  },
  {
   "cell_type": "code",
   "execution_count": null,
   "id": "a56ed71f-5259-4451-8707-fe78191504f4",
   "metadata": {},
   "outputs": [],
   "source": [
    "im = Image.open(os.getcwd() + \"/data/beave.png\")"
   ]
  },
  {
   "cell_type": "code",
   "execution_count": null,
   "id": "91826092-7b91-40b4-9e43-5659c9ccd1a5",
   "metadata": {},
   "outputs": [],
   "source": [
    "from PIL import Image\n",
    "import numpy as np\n",
    "model = generator\n",
    "# im = Image.open(\"test30.jpg\")\n",
    "im = Image.open(os.getcwd() + \"/data/beave.jpg\")\n",
    "numpydata = np.expand_dims(np.asarray(im), 0)\n",
    "# print(numpydata[0][0][0])\n",
    "test_input = tf.convert_to_tensor(numpydata)\n",
    "# generate_batch_images(generator,tensor,tensor )\n",
    "tar = test_input\n",
    "\n",
    "# print(tf.shape(test_input))\n",
    "prediction = model(test_input, training=True)\n",
    "plt.figure(figsize=(15, 15))\n",
    "\n",
    "pred_np = np.expand_dims(prediction.numpy()[0], 0)\n",
    "masked_im = np.expand_dims(test_input.numpy()[0], 0)\n",
    "\n",
    "#     print(np.shape(pred_np), np.shape(masked_im))\n",
    "for i, val in enumerate(pred_np):\n",
    "    for j, row in enumerate(val):\n",
    "        for k, channel in enumerate(row):\n",
    "            if np.mean(pred_np[i][j][k]) < -0.8:\n",
    "                masked_im[i][j][k] = [0.0,0.0,0.0]\n",
    "\n",
    "masked_im = tf.convert_to_tensor(masked_im)\n",
    "# print(tf.shape(masked_im))\n",
    "\n",
    "if tf.shape(masked_im)[0] > 1:\n",
    "    masked_im = masked_im[0]\n",
    "\n",
    "\n",
    "masked_im = tf.reshape(masked_im,(256,256,3))\n",
    "display_list = [test_input[i], masked_im]\n",
    "#         print(prediction)\n",
    "title = ['Input Image', 'Masked']\n",
    "\n",
    "for i in range(2):\n",
    "    plt.subplot(1, 2, i+1)\n",
    "    plt.title(title[i])\n",
    "    # converting the pixel values to [0, 1] to plot it.\n",
    "    plt.imshow(display_list[i])\n",
    "    plt.axis('off')\n",
    "plt.show()"
   ]
  },
  {
   "cell_type": "code",
   "execution_count": null,
   "id": "fac901db-bd3a-4895-bb93-94e9e150ad7a",
   "metadata": {},
   "outputs": [],
   "source": []
  }
 ],
 "metadata": {
  "kernelspec": {
   "display_name": "Tensorflow-2.4.1",
   "language": "python",
   "name": "tensorflow-2.4.1"
  },
  "language_info": {
   "codemirror_mode": {
    "name": "ipython",
    "version": 3
   },
   "file_extension": ".py",
   "mimetype": "text/x-python",
   "name": "python",
   "nbconvert_exporter": "python",
   "pygments_lexer": "ipython3",
   "version": "3.8.6"
  }
 },
 "nbformat": 4,
 "nbformat_minor": 5
}
